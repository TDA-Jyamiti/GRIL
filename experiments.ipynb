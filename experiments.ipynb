{
 "cells": [
  {
   "attachments": {},
   "cell_type": "markdown",
   "metadata": {},
   "source": [
    "Assuming we have compiled and installed mpml by following the README file we are ready to perform experiments"
   ]
  },
  {
   "cell_type": "code",
   "execution_count": 1,
   "metadata": {},
   "outputs": [],
   "source": [
    "from random import sample\n",
    "import numpy as np\n",
    "import torch\n",
    "import matplotlib.pyplot as plt\n",
    "import os\n",
    "from scipy import sparse\n",
    "from typing import Tuple, List\n",
    "import argparse\n",
    "import zigzag.zz as zz\n",
    "import torch\n",
    "import torch.nn as nn\n",
    "from scipy.spatial import Delaunay"
   ]
  },
  {
   "attachments": {},
   "cell_type": "markdown",
   "metadata": {},
   "source": [
    "Let's import some helper functions already defined in ``utils.py``"
   ]
  },
  {
   "cell_type": "code",
   "execution_count": 2,
   "metadata": {},
   "outputs": [],
   "source": [
    "from utils import *"
   ]
  },
  {
   "cell_type": "code",
   "execution_count": 3,
   "metadata": {},
   "outputs": [],
   "source": [
    "num_circles = 2\n",
    "num_disks = 0\n",
    "experiment_name = f'circle_{num_circles}_disk_{num_disks}'\n",
    "data = create_circles_and_disks(num_circles, num_disks, False)\n"
   ]
  },
  {
   "cell_type": "code",
   "execution_count": 4,
   "metadata": {},
   "outputs": [
    {
     "data": {
      "image/png": "[encoded data removed]",
      "text/plain": [
       "<Figure size 640x480 with 1 Axes>"
      ]
     },
     "metadata": {},
     "output_type": "display_data"
    }
   ],
   "source": [
    "fig = plt.figure()\n",
    "plt.scatter(data[:, 0], data[:, 1], s=1, c='b')\n",
    "plt.show()"
   ]
  },
  {
   "cell_type": "code",
   "execution_count": 5,
   "metadata": {},
   "outputs": [],
   "source": [
    "class MultiPersLandscapeValLayer(nn.Module):\n",
    "    def __init__(self, res, hom_rank, step, l):\n",
    "        super().__init__()\n",
    "        self.res = res\n",
    "        self.step = step\n",
    "        self.l = l\n",
    "        self.sample_pts = self.sample_grid()\n",
    "        self.hom_rank = hom_rank\n",
    "        self.filt_layer = get_filtration\n",
    "        self.mpl = zz.MultiPers(hom_rank=hom_rank, l=l, res=res, ranks=list(range(1, 6)))\n",
    "        self.mpl.set_max_jobs(40)\n",
    "\n",
    "    def sample_grid(self):\n",
    "        pts = []\n",
    "        num_division = int(1.0 / self.res)\n",
    "        for j in range(0, num_division, self.step):\n",
    "            for i in range(0, num_division, self.step):\n",
    "                pts.append((i, j))\n",
    "        return pts\n",
    "\n",
    "    def forward(self, x, edges, tri, tri_converted):\n",
    "        num_vertices = x.shape[0]\n",
    "        f, e = self.filt_layer(x, edges, tri, tri_converted)\n",
    "        simplices = get_simplices(num_vertices, e, tri)\n",
    "        pers_inp = [(f, simplices)]\n",
    "        bars = self.mpl.compute_landscape(self.sample_pts, pers_inp)\n",
    "        return bars"
   ]
  },
  {
   "cell_type": "code",
   "execution_count": 6,
   "metadata": {},
   "outputs": [
    {
     "name": "stdout",
     "output_type": "stream",
     "text": [
      "Took 58109 ms\n",
      "Took 33645 ms\n"
     ]
    }
   ],
   "source": [
    "edges, triangles, tri_converted = delaunay_complex(data)\n",
    "x = torch.tensor(data, dtype=torch.float)\n",
    "num_vertices = x.shape[0]\n",
    "\n",
    "layer1_0 = MultiPersLandscapeValLayer(res=0.01, hom_rank=0, step=2, l=2)\n",
    "layer1_1 = MultiPersLandscapeValLayer(res=0.01, hom_rank=1, step=2, l=2)\n",
    "\n",
    "out1_0 = layer1_0(x, edges, triangles, tri_converted)\n",
    "lmbda1_0 = out1_0[0]\n",
    "out1_1 = layer1_1(x, edges, triangles, tri_converted)\n",
    "lmbda1_1 = out1_1[0]"
   ]
  },
  {
   "cell_type": "code",
   "execution_count": 7,
   "metadata": {},
   "outputs": [
    {
     "data": {
      "image/png": "[encoded data removed]",
      "text/plain": [
       "<Figure size 640x480 with 2 Axes>"
      ]
     },
     "metadata": {},
     "output_type": "display_data"
    }
   ],
   "source": [
    "fig, (ax1, ax2) = plt.subplots(1, 2)\n",
    "h1 = lmbda1_1.numpy().reshape((50, 50, 5))\n",
    "h1_1 = h1[:, :, 0].reshape((50, 50))\n",
    "h1_2 = h1[:, :, 1].reshape((50, 50))\n",
    "ax1.imshow(h1_1, cmap='jet', origin='lower')\n",
    "ax1.set_title('$\\lambda_1$')\n",
    "ax1.set_axis_off()\n",
    "ax2.imshow(h1_2, cmap='jet', origin='lower')\n",
    "ax2.set_title('$\\lambda_2$')\n",
    "ax2.set_axis_off()\n",
    "plt.show()\n"
   ]
  }
 ],
 "metadata": {
  "kernelspec": {
   "display_name": "stnets",
   "language": "python",
   "name": "python3"
  },
  "language_info": {
   "codemirror_mode": {
    "name": "ipython",
    "version": 3
   },
   "file_extension": ".py",
   "mimetype": "text/x-python",
   "name": "python",
   "nbconvert_exporter": "python",
   "pygments_lexer": "ipython3",
   "version": "3.9.12"
  },
  "orig_nbformat": 4,
  "vscode": {
   "interpreter": {
    "hash": "2014c2466ac851c3e09b7a320280ea5581b5d2277fc5e880758e6946cec9e9b3"
   }
  }
 },
 "nbformat": 4,
 "nbformat_minor": 2
}
